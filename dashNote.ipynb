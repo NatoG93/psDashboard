{
 "cells": [
  {
   "cell_type": "code",
   "id": "initial_id",
   "metadata": {
    "collapsed": true,
    "ExecuteTime": {
     "end_time": "2024-10-02T17:06:45.855096Z",
     "start_time": "2024-10-02T17:06:45.080447Z"
    }
   },
   "source": "import pandas as pd",
   "outputs": [],
   "execution_count": 1
  },
  {
   "metadata": {
    "ExecuteTime": {
     "end_time": "2024-10-02T17:08:58.836529Z",
     "start_time": "2024-10-02T17:08:58.826905Z"
    }
   },
   "cell_type": "code",
   "source": [
    "file_path = \"C:/Users/sergi/PycharmProjects/psDashboard/datav2.csv\"\n",
    "df = pd.read_csv(file_path)"
   ],
   "id": "e9c9b48dc88f5479",
   "outputs": [],
   "execution_count": 5
  },
  {
   "metadata": {
    "ExecuteTime": {
     "end_time": "2024-10-02T17:08:59.839510Z",
     "start_time": "2024-10-02T17:08:59.832797Z"
    }
   },
   "cell_type": "code",
   "source": [
    "# Assuming your DataFrame is called 'df'\n",
    "third_column_name = df.columns[3]  # Get the name of the third column\n",
    "third_column_type = df[third_column_name].dtype\n",
    "\n",
    "print(f\"The type of the third column '{third_column_name}' is: {third_column_type}\")"
   ],
   "id": "1ae074fcfb9cb6d1",
   "outputs": [
    {
     "name": "stdout",
     "output_type": "stream",
     "text": [
      "The type of the third column 'Broker Fee' is: float64\n"
     ]
    }
   ],
   "execution_count": 6
  },
  {
   "metadata": {
    "ExecuteTime": {
     "end_time": "2024-10-01T16:39:37.448617Z",
     "start_time": "2024-10-01T16:39:37.440929Z"
    }
   },
   "cell_type": "code",
   "source": [
    "print(\"Columns in the DataFrame:\")\n",
    "print(df.columns)"
   ],
   "id": "5aa253f7328761ba",
   "outputs": [
    {
     "name": "stdout",
     "output_type": "stream",
     "text": [
      "Columns in the DataFrame:\n",
      "Index(['Month', 'Broker', ' Broker Fee '], dtype='object')\n"
     ]
    }
   ],
   "execution_count": 9
  },
  {
   "metadata": {},
   "cell_type": "code",
   "outputs": [],
   "execution_count": null,
   "source": "",
   "id": "4c61275ab28d194d"
  }
 ],
 "metadata": {
  "kernelspec": {
   "display_name": "Python 3",
   "language": "python",
   "name": "python3"
  },
  "language_info": {
   "codemirror_mode": {
    "name": "ipython",
    "version": 2
   },
   "file_extension": ".py",
   "mimetype": "text/x-python",
   "name": "python",
   "nbconvert_exporter": "python",
   "pygments_lexer": "ipython2",
   "version": "2.7.6"
  }
 },
 "nbformat": 4,
 "nbformat_minor": 5
}

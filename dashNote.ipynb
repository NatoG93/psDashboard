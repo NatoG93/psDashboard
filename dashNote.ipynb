{
 "cells": [
  {
   "cell_type": "code",
   "id": "initial_id",
   "metadata": {
    "collapsed": true,
    "ExecuteTime": {
     "end_time": "2024-10-01T00:10:56.899667Z",
     "start_time": "2024-10-01T00:10:56.895080Z"
    }
   },
   "source": "import pandas as pd",
   "outputs": [],
   "execution_count": 15
  },
  {
   "metadata": {
    "ExecuteTime": {
     "end_time": "2024-10-01T00:16:51.282986Z",
     "start_time": "2024-10-01T00:16:51.274213Z"
    }
   },
   "cell_type": "code",
   "source": [
    "file_path = \"C:/Users/sergi/PycharmProjects/psDashboard/data.csv\"\n",
    "df = pd.read_csv(file_path)"
   ],
   "id": "e9c9b48dc88f5479",
   "outputs": [],
   "execution_count": 22
  },
  {
   "metadata": {
    "ExecuteTime": {
     "end_time": "2024-10-01T00:16:55.809175Z",
     "start_time": "2024-10-01T00:16:55.793659Z"
    }
   },
   "cell_type": "code",
   "source": [
    "# Extract unique month values\n",
    "month_options = df['Month'].unique()"
   ],
   "id": "1ae074fcfb9cb6d1",
   "outputs": [],
   "execution_count": 23
  },
  {
   "metadata": {},
   "cell_type": "code",
   "outputs": [],
   "execution_count": null,
   "source": "",
   "id": "5aa253f7328761ba"
  }
 ],
 "metadata": {
  "kernelspec": {
   "display_name": "Python 3",
   "language": "python",
   "name": "python3"
  },
  "language_info": {
   "codemirror_mode": {
    "name": "ipython",
    "version": 2
   },
   "file_extension": ".py",
   "mimetype": "text/x-python",
   "name": "python",
   "nbconvert_exporter": "python",
   "pygments_lexer": "ipython2",
   "version": "2.7.6"
  }
 },
 "nbformat": 4,
 "nbformat_minor": 5
}

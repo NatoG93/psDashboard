{
 "cells": [
  {
   "cell_type": "code",
   "id": "initial_id",
   "metadata": {
    "collapsed": true,
    "ExecuteTime": {
     "end_time": "2024-10-04T16:38:11.031130Z",
     "start_time": "2024-10-04T16:38:11.013340Z"
    }
   },
   "source": "import pandas as pd",
   "outputs": [],
   "execution_count": 7
  },
  {
   "metadata": {
    "ExecuteTime": {
     "end_time": "2024-10-04T16:38:12.827022Z",
     "start_time": "2024-10-04T16:38:12.808401Z"
    }
   },
   "cell_type": "code",
   "source": [
    "file_path = \"C:/Users/sergi/PycharmProjects/psDashboard/datav2.csv\"\n",
    "df = pd.read_csv(file_path)"
   ],
   "id": "e9c9b48dc88f5479",
   "outputs": [],
   "execution_count": 8
  },
  {
   "metadata": {
    "ExecuteTime": {
     "end_time": "2024-10-04T16:38:15.124647Z",
     "start_time": "2024-10-04T16:38:15.119242Z"
    }
   },
   "cell_type": "code",
   "source": [
    "# Assuming your DataFrame is called 'df'\n",
    "third_column_name = df.columns[3]  # Get the name of the third column\n",
    "third_column_type = df[third_column_name].dtype\n",
    "\n",
    "print(f\"The type of the third column '{third_column_name}' is: {third_column_type}\")"
   ],
   "id": "1ae074fcfb9cb6d1",
   "outputs": [
    {
     "name": "stdout",
     "output_type": "stream",
     "text": [
      "The type of the third column 'Broker Fee' is: float64\n"
     ]
    }
   ],
   "execution_count": 9
  },
  {
   "metadata": {
    "ExecuteTime": {
     "end_time": "2024-10-04T16:38:19.388485Z",
     "start_time": "2024-10-04T16:38:19.381110Z"
    }
   },
   "cell_type": "code",
   "source": [
    "print(\"Columns in the DataFrame:\")\n",
    "print(df.columns)"
   ],
   "id": "5aa253f7328761ba",
   "outputs": [
    {
     "name": "stdout",
     "output_type": "stream",
     "text": [
      "Columns in the DataFrame:\n",
      "Index(['Month', 'Year', 'Broker', 'Broker Fee', 'Loss', 'Dispatcher fee',\n",
      "       'Commission', 'Indx'],\n",
      "      dtype='object')\n"
     ]
    }
   ],
   "execution_count": 10
  },
  {
   "metadata": {
    "ExecuteTime": {
     "end_time": "2024-10-04T16:44:33.258402Z",
     "start_time": "2024-10-04T16:44:33.252159Z"
    }
   },
   "cell_type": "code",
   "source": [
    "lastindx = df['Indx'].max()\n",
    "print(lastindx)"
   ],
   "id": "4c61275ab28d194d",
   "outputs": [
    {
     "name": "stdout",
     "output_type": "stream",
     "text": [
      "20\n"
     ]
    }
   ],
   "execution_count": 25
  },
  {
   "metadata": {
    "ExecuteTime": {
     "end_time": "2024-10-04T16:42:29.699291Z",
     "start_time": "2024-10-04T16:42:29.693327Z"
    }
   },
   "cell_type": "code",
   "source": "print(df.iloc[lastindx-1])",
   "id": "8a8550454ba0880c",
   "outputs": [
    {
     "name": "stdout",
     "output_type": "stream",
     "text": [
      "Month                    March\n",
      "Year                      2023\n",
      "Broker            Gaby Samayoa\n",
      "Broker Fee              4235.0\n",
      "Loss                       NaN\n",
      "Dispatcher fee           93.25\n",
      "Commission             1600.75\n",
      "Indx                         2\n",
      "Name: 19, dtype: object\n"
     ]
    }
   ],
   "execution_count": 19
  },
  {
   "metadata": {
    "ExecuteTime": {
     "end_time": "2024-10-04T16:53:09.731282Z",
     "start_time": "2024-10-04T16:53:09.722187Z"
    }
   },
   "cell_type": "code",
   "source": [
    "current_month_df = df[df['Indx'] == df['Indx'].max()]\n",
    "previous_month_df = df[df['Indx'] == df['Indx'].max()-1]\n",
    "print(current_month_df.iloc[:1,:2])"
   ],
   "id": "834a80e18ee9325c",
   "outputs": [
    {
     "name": "stdout",
     "output_type": "stream",
     "text": [
      "         Month  Year\n",
      "201  September  2024\n"
     ]
    }
   ],
   "execution_count": 41
  },
  {
   "metadata": {},
   "cell_type": "code",
   "outputs": [],
   "execution_count": null,
   "source": "",
   "id": "e50ae158606127c9"
  }
 ],
 "metadata": {
  "kernelspec": {
   "display_name": "Python 3",
   "language": "python",
   "name": "python3"
  },
  "language_info": {
   "codemirror_mode": {
    "name": "ipython",
    "version": 2
   },
   "file_extension": ".py",
   "mimetype": "text/x-python",
   "name": "python",
   "nbconvert_exporter": "python",
   "pygments_lexer": "ipython2",
   "version": "2.7.6"
  }
 },
 "nbformat": 4,
 "nbformat_minor": 5
}
